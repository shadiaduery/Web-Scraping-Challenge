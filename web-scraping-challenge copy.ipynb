{
 "cells": [
  {
   "cell_type": "markdown",
   "metadata": {},
   "source": [
    "# Import Dependencies"
   ]
  },
  {
   "cell_type": "code",
   "execution_count": 16,
   "metadata": {},
   "outputs": [],
   "source": [
    "import requests\n",
    "import pandas as pd\n",
    "from pprint import pprint\n",
    "from splinter import Browser\n",
    "from bs4 import BeautifulSoup\n",
    "from selenium import webdriver\n",
    "from selenium.webdriver.chrome.options import Options\n",
    "import time"
   ]
  },
  {
   "cell_type": "markdown",
   "metadata": {},
   "source": [
    "### Create a browser instance using splinter"
   ]
  },
  {
   "cell_type": "code",
   "execution_count": 17,
   "metadata": {},
   "outputs": [],
   "source": [
    "executable_path = {\"executable_path\":\"C:/Users/sduer/Desktop/chromedriver\"}\n",
    "browser=Browser(\"chrome\", **executable_path, headless=False)"
   ]
  },
  {
   "cell_type": "markdown",
   "metadata": {},
   "source": [
    "### Scraping NASA Mars News"
   ]
  },
  {
   "cell_type": "code",
   "execution_count": 82,
   "metadata": {},
   "outputs": [
    {
     "name": "stdout",
     "output_type": "stream",
     "text": [
      "NASA Moves Forward With Campaign to Return Mars Samples to Earth\n",
      "During this next phase, the program will mature critical technologies and make critical design decisions as well as assess industry partnerships.\n"
     ]
    }
   ],
   "source": [
    "# URL of page to be scraped\n",
    "mars_news_url = \"https://mars.nasa.gov/news/\"\n",
    "browser.visit(mars_news_url)\n",
    "time.sleep(2)\n",
    "\n",
    "# Object Oriented Programming, create an HTML object\n",
    "html = browser.html\n",
    "\n",
    "# Parse the HTML object using the BeautifulSoup Method\n",
    "soup=BeautifulSoup(browser.html, 'html.parser')\n",
    "\n",
    "# Find a html component that contains a news title and the news paragraph\n",
    "element = soup.find('li', class_='slide')\n",
    "\n",
    "# Parse the News Title from the website\n",
    "news_title = element.find('div', class_='content_title').find('a').text\n",
    "print(news_title)\n",
    "\n",
    "# Parse the News Paragraph from the website\n",
    "news_p = element.find('div', class_='rollover_description_inner').text\n",
    "\n",
    "print(news_p)"
   ]
  },
  {
   "cell_type": "markdown",
   "metadata": {},
   "source": [
    "### JPL Mars Space Images - Featured Image"
   ]
  },
  {
   "cell_type": "code",
   "execution_count": 5,
   "metadata": {},
   "outputs": [
    {
     "name": "stdout",
     "output_type": "stream",
     "text": [
      "https://www.jpl.nasa.gov/spaceimages/?search=&category=Mars/spaceimages/images/wallpaper/PIA14417-1920x1200.jpg\n"
     ]
    }
   ],
   "source": [
    "# URL of page to be scraped\n",
    "feature_img_url = \"https://www.jpl.nasa.gov/spaceimages/?search=&category=Mars\"\n",
    "browser.visit(feature_img_url)\n",
    "time.sleep(2)\n",
    "\n",
    "# Object Oriented Programming, create an HTML object\n",
    "html = browser.html\n",
    "\n",
    "# Parse the HTML object using the BeautifulSoup Method\n",
    "soup=BeautifulSoup(browser.html, 'html.parser')\n",
    "\n",
    "# Find a html component that contains featured image high resolution\n",
    "feautured_img = soup.find('article',class_='carousel_item')['style']\n",
    "\n",
    "feautured_img = feature_img_url + (feautured_img[23:75])\n",
    "\n",
    "print(feautured_img)"
   ]
  },
  {
   "cell_type": "markdown",
   "metadata": {},
   "source": [
    "### Mars Facts"
   ]
  },
  {
   "cell_type": "code",
   "execution_count": 87,
   "metadata": {},
   "outputs": [
    {
     "data": {
      "text/plain": [
       "'<table border=\"1\" class=\"dataframe\">\\n  <thead>\\n    <tr style=\"text-align: right;\">\\n      <th>Description</th>\\n      <th>Value</th>\\n    </tr>\\n  </thead>\\n  <tbody>\\n    <tr>\\n      <td>Equatorial Diameter:</td>\\n      <td>6,792 km</td>\\n    </tr>\\n    <tr>\\n      <td>Polar Diameter:</td>\\n      <td>6,752 km</td>\\n    </tr>\\n    <tr>\\n      <td>Mass:</td>\\n      <td>6.39 × 10^23 kg (0.11 Earths)</td>\\n    </tr>\\n    <tr>\\n      <td>Moons:</td>\\n      <td>2 (Phobos &amp; Deimos)</td>\\n    </tr>\\n    <tr>\\n      <td>Orbit Distance:</td>\\n      <td>227,943,824 km (1.38 AU)</td>\\n    </tr>\\n    <tr>\\n      <td>Orbit Period:</td>\\n      <td>687 days (1.9 years)</td>\\n    </tr>\\n    <tr>\\n      <td>Surface Temperature:</td>\\n      <td>-87 to -5 °C</td>\\n    </tr>\\n    <tr>\\n      <td>First Record:</td>\\n      <td>2nd millennium BC</td>\\n    </tr>\\n    <tr>\\n      <td>Recorded By:</td>\\n      <td>Egyptian astronomers</td>\\n    </tr>\\n  </tbody>\\n</table>'"
      ]
     },
     "execution_count": 87,
     "metadata": {},
     "output_type": "execute_result"
    }
   ],
   "source": [
    "# URL of page to be scraped\n",
    "mars_facts_url = \"https://space-facts.com/mars/\"\n",
    "browser.visit(mars_facts_url)\n",
    "time.sleep(3)\n",
    "\n",
    "# Object Oriented Programming, create an HTML object\n",
    "html = browser.html\n",
    "\n",
    "# Parse the HTML object using the BeautifulSoup Method\n",
    "soup=BeautifulSoup(browser.html, 'html.parser')\n",
    "\n",
    "# Find a html component that contains Mars Facts Table\n",
    "mars_fact_table_extract = soup.find('table', class_='tablepress tablepress-id-p-mars')\n",
    "\n",
    "mars_fact_table_extract = pd.read_html(html)\n",
    "mars_fact_table_df = mars_fact_table_extract[0]\n",
    "mars_fact_table_df.columns = ['Description', 'Value']\n",
    "mars_fact_table_df.to_html(buf=None, columns=None, col_space=None, header=True, index=False, na_rep='NaN', formatters=None, float_format=None, sparsify=None, index_names=True, justify=None, bold_rows=True, classes=None, escape=True, max_rows=None, max_cols=None, show_dimensions=False, notebook=False, decimal='.', border=None, table_id=None)"
   ]
  },
  {
   "cell_type": "markdown",
   "metadata": {},
   "source": [
    "### Mars Hemispheres"
   ]
  },
  {
   "cell_type": "code",
   "execution_count": 67,
   "metadata": {},
   "outputs": [
    {
     "name": "stdout",
     "output_type": "stream",
     "text": [
      "{'title': 'Cerberus Hemisphere Enhanced', 'image_url': 'https://astropedia.astrogeology.usgs.gov/download/Mars/Viking/cerberus_enhanced.tif/full.jpg'}\n"
     ]
    }
   ],
   "source": [
    "# URL of page to be scraped\n",
    "mars_cerberus_hemisphere_url = \"https://astrogeology.usgs.gov/search/map/Mars/Viking/cerberus_enhanced\"\n",
    "browser.visit(mars_cerberus_hemisphere_url)\n",
    "time.sleep(3)\n",
    "\n",
    "# Object Oriented Programming, create an HTML object\n",
    "html = browser.html\n",
    "\n",
    "# Parse the HTML object using the BeautifulSoup Method\n",
    "soup=BeautifulSoup(browser.html, 'html.parser')\n",
    "\n",
    "# Create an empty dictionary and variables\n",
    "cerberus={}\n",
    "\n",
    "# Find a html title and image url to Mars Cerberus Hemisphere \n",
    "cerberus['title'] = soup.find('h2', class_='title').text\n",
    "cerberus['image_url'] = soup.find('div', class_='downloads').find('a')[\"href\"]\n",
    "\n",
    "print(cerberus)"
   ]
  },
  {
   "cell_type": "code",
   "execution_count": 58,
   "metadata": {},
   "outputs": [
    {
     "name": "stdout",
     "output_type": "stream",
     "text": [
      "{'title': 'Cerberus Hemisphere Enhanced', 'image_url': 'https://astropedia.astrogeology.usgs.gov/download/Mars/Viking/cerberus_enhanced.tif/full.jpg'}\n"
     ]
    }
   ],
   "source": [
    "# URL of page to be scraped\n",
    "mars_schiaparelli_url = \"https://astrogeology.usgs.gov/search/map/Mars/Viking/schiaparelli_enhanced\"\n",
    "browser.visit(mars_schiaparelli_url)\n",
    "time.sleep(3)\n",
    "\n",
    "# Create an empty dictionary\n",
    "chiaparelli={}\n",
    "\n",
    "# Find a html title and image url to Mars schiaparelli Hemisphere\n",
    "chiaparelli['title'] = soup.find('h2', class_='title').text\n",
    "chiaparelli['image_url'] = soup.find('div', class_='downloads').find('a')[\"href\"]\n",
    "\n",
    "print(chiaparelli)"
   ]
  },
  {
   "cell_type": "code",
   "execution_count": 60,
   "metadata": {},
   "outputs": [
    {
     "name": "stdout",
     "output_type": "stream",
     "text": [
      "{'title': 'Cerberus Hemisphere Enhanced', 'image_url': 'https://astropedia.astrogeology.usgs.gov/download/Mars/Viking/cerberus_enhanced.tif/full.jpg'}\n"
     ]
    }
   ],
   "source": [
    "# URL of page to be scraped\n",
    "mars_syrtis_major_url = \"https://astrogeology.usgs.gov/search/map/Mars/Viking/syrtis_major_enhanced\"\n",
    "browser.visit(mars_syrtis_major_url)\n",
    "time.sleep(3)\n",
    "\n",
    "# Create an empty dictionary\n",
    "syrtis={}\n",
    "\n",
    "syrtis['title'] = soup.find('h2', class_='title').text\n",
    "syrtis['image_url'] = soup.find('div', class_='downloads').find('a')[\"href\"]\n",
    "\n",
    "print(syrtis)"
   ]
  },
  {
   "cell_type": "code",
   "execution_count": 61,
   "metadata": {},
   "outputs": [
    {
     "name": "stdout",
     "output_type": "stream",
     "text": [
      "{'title': 'Cerberus Hemisphere Enhanced', 'image_url': 'https://astropedia.astrogeology.usgs.gov/download/Mars/Viking/cerberus_enhanced.tif/full.jpg'}\n"
     ]
    }
   ],
   "source": [
    "# URL of page to be scraped\n",
    "mars_valles_marineris_url = \"https://astrogeology.usgs.gov/search/map/Mars/Viking/valles_marineris_enhanced\"\n",
    "browser.visit(mars_valles_marineris_url)\n",
    "time.sleep(3)\n",
    "\n",
    "# Create an empty dictionary\n",
    "valles={}\n",
    "\n",
    "# Find a html title and image url to Mars schiaparelli Hemisphere\n",
    "valles['title'] = soup.find('h2', class_='title').text\n",
    "valles['image_url'] = soup.find('div', class_='downloads').find('a')[\"href\"]\n",
    "\n",
    "print(valles)"
   ]
  },
  {
   "cell_type": "code",
   "execution_count": 69,
   "metadata": {},
   "outputs": [
    {
     "name": "stdout",
     "output_type": "stream",
     "text": [
      "[{'title': 'Cerberus Hemisphere Enhanced', 'image_url': 'https://astropedia.astrogeology.usgs.gov/download/Mars/Viking/cerberus_enhanced.tif/full.jpg'}, {'title': 'Cerberus Hemisphere Enhanced', 'image_url': 'https://astropedia.astrogeology.usgs.gov/download/Mars/Viking/cerberus_enhanced.tif/full.jpg'}, {'title': 'Cerberus Hemisphere Enhanced', 'image_url': 'https://astropedia.astrogeology.usgs.gov/download/Mars/Viking/cerberus_enhanced.tif/full.jpg'}, {'title': 'Cerberus Hemisphere Enhanced', 'image_url': 'https://astropedia.astrogeology.usgs.gov/download/Mars/Viking/cerberus_enhanced.tif/full.jpg'}]\n"
     ]
    }
   ],
   "source": [
    "hemisphere_image_urls = [cerberus,chiaparelli,syrtis,valles]\n",
    "print(hemisphere_image_urls)"
   ]
  },
  {
   "cell_type": "code",
   "execution_count": null,
   "metadata": {},
   "outputs": [],
   "source": []
  }
 ],
 "metadata": {
  "kernelspec": {
   "display_name": "Python 3",
   "language": "python",
   "name": "python3"
  },
  "language_info": {
   "codemirror_mode": {
    "name": "ipython",
    "version": 3
   },
   "file_extension": ".py",
   "mimetype": "text/x-python",
   "name": "python",
   "nbconvert_exporter": "python",
   "pygments_lexer": "ipython3",
   "version": "3.6.10"
  }
 },
 "nbformat": 4,
 "nbformat_minor": 4
}
